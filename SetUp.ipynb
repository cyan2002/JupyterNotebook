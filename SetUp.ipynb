{
 "cells": [
  {
   "cell_type": "code",
   "execution_count": null,
   "id": "c2808e5b-6615-4669-afd3-49883b48f2b2",
   "metadata": {},
   "outputs": [],
   "source": [
    "#This is a set up Document to tell me how to use Jupyter Notebook and find stuff\n",
    "\n",
    "#Getting set up\n",
    "#to install Jupyter Notebook on Mac, I have to use the terminal and type \"pip install jupyterlab\"\n",
    "#after, type in \"jupyter lab\" to the terminal\n",
    "#Juypter lab should have been opened through the browser, but now it is local and able to connect to your files.\n",
    "#Now you should have access to creating scripts and doing whatever on Juypter Notebook\n",
    "\n",
    "#NOTE about getting set up\n",
    "#If you close the terminal, it will close the connection (on the web browser) to Jupyter Notebook\n",
    "#ipynb files can be opened in VScode as well\n",
    "\n",
    "\n",
    "#Pushing code to github through Juypter Lab"
   ]
  }
 ],
 "metadata": {
  "kernelspec": {
   "display_name": "Python 3 (ipykernel)",
   "language": "python",
   "name": "python3"
  },
  "language_info": {
   "codemirror_mode": {
    "name": "ipython",
    "version": 3
   },
   "file_extension": ".py",
   "mimetype": "text/x-python",
   "name": "python",
   "nbconvert_exporter": "python",
   "pygments_lexer": "ipython3",
   "version": "3.11.5"
  }
 },
 "nbformat": 4,
 "nbformat_minor": 5
}
