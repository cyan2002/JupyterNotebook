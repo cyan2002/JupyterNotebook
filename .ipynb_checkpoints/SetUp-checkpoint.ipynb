{
 "cells": [
  {
   "cell_type": "code",
   "execution_count": null,
   "id": "f4bc1d21",
   "metadata": {},
   "outputs": [],
   "source": [
    "#This is a set up Document to tell me how to use Jupyter Notebook and find stuff"
   ]
  },
  {
   "cell_type": "code",
   "execution_count": null,
   "id": "c2808e5b-6615-4669-afd3-49883b48f2b2",
   "metadata": {},
   "outputs": [],
   "source": [
    "#Getting set up\n",
    "#to install Jupyter Notebook on Mac, I have to use the terminal and type \"pip install jupyterlab\"\n",
    "#after, type in \"jupyter lab\" to the terminal\n",
    "#Juypter lab should have been opened through the browser, but now it is local and able to connect to your files.\n",
    "#Now you should have access to creating scripts and doing whatever on Juypter Notebook\n",
    "\n",
    "#NOTE about getting set up\n",
    "#If you close the terminal, it will close the connection (on the web browser) to Jupyter Notebook\n",
    "#ipynb files can be opened in VScode as well\n",
    "#TO OPEN: jupyter lab"
   ]
  },
  {
   "cell_type": "code",
   "execution_count": null,
   "id": "e53b6379",
   "metadata": {
    "editable": true,
    "slideshow": {
     "slide_type": ""
    },
    "tags": []
   },
   "outputs": [],
   "source": [
    "#Pushing code to github through Juypter Lab\n",
    "#Enter code to create, code can be copied from Github\n",
    "#echo \"# JupyterNotebook\" >> README.md #change name as needed\n",
    "#git init\n",
    "#git add README.md\n",
    "#git commit -m \"first commit\"\n",
    "#git branch -M main\n",
    "#git remote add origin https://github.com/cyan2002/JupyterNotebook.git #change website URL for appropriate repo\n",
    "#git push -u origin main"
   ]
  },
  {
   "cell_type": "code",
   "execution_count": null,
   "id": "cc2c2a7f-4d41-4d02-927d-c4a6febe1f52",
   "metadata": {},
   "outputs": [],
   "source": [
    "#WHENEVER YOU WANT TO SAVE/UPLOAD FILES...\n",
    "#to update a file, \"git add 'File_name'\"\n",
    "#to remove a file (even if it's not in your local repository), \"git remove 'file_name'\"\n",
    "\n",
    "#After adding or removing, you must commit changes then push\n",
    "#git commit -m \"add a message here\"\n",
    "#git push -u origin main\n",
    "\n",
    "#for some reason you can't commit and push changes when you have Jupyter notebook open...\n",
    "#To get around this, you can open a new terminal command prompt OR (in Jupyter) File -> New -> Terminal"
   ]
  }
 ],
 "metadata": {
  "kernelspec": {
   "display_name": "Python 3 (ipykernel)",
   "language": "python",
   "name": "python3"
  },
  "language_info": {
   "codemirror_mode": {
    "name": "ipython",
    "version": 3
   },
   "file_extension": ".py",
   "mimetype": "text/x-python",
   "name": "python",
   "nbconvert_exporter": "python",
   "pygments_lexer": "ipython3",
   "version": "3.11.5"
  }
 },
 "nbformat": 4,
 "nbformat_minor": 5
}
